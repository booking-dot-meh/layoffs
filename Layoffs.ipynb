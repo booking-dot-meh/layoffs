{
 "cells": [
  {
   "cell_type": "code",
   "execution_count": null,
   "metadata": {},
   "outputs": [],
   "source": [
    "from ldap3 import Server, Connection, ALL, IP_V4_ONLY\n",
    "import getpass\n",
    "import datetime\n",
    "import pytz\n",
    "import humanize\n",
    "import warnings\n",
    "\n",
    "warnings.filterwarnings(\"ignore\")"
   ]
  },
  {
   "cell_type": "code",
   "execution_count": null,
   "metadata": {},
   "outputs": [],
   "source": [
    "import serviceping\n",
    "import socket\n",
    "def find_fastest_global_catalog():\n",
    "    sockaddrs = [\n",
    "        addrinfo[4]\n",
    "        for addrinfo\n",
    "        in socket.getaddrinfo('corpad.adbkng.com', 3269, family=socket.AF_INET)]\n",
    "    ping_results = {\n",
    "        sockaddr: serviceping.network.ping(sockaddr[0], sockaddr[1], timeout=1.0)\n",
    "        for sockaddr\n",
    "        in sockaddrs}\n",
    "    ping_results = {\n",
    "        sockaddr: response.durations['all']\n",
    "        for sockaddr, response\n",
    "        in ping_results.items()\n",
    "        if response.responding}\n",
    "    fastest_server = sorted(ping_results.items(), key=lambda x: x[1])[0][0]\n",
    "    return fastest_server\n",
    "fastest_global_catalog = find_fastest_global_catalog()"
   ]
  },
  {
   "cell_type": "code",
   "execution_count": null,
   "metadata": {},
   "outputs": [],
   "source": [
    "login_name = input('Login Username (e.g. \"jdoe\"): ')\n",
    "username = 'CORPAD\\\\' + login_name\n",
    "password = getpass.getpass('Password: ')"
   ]
  },
  {
   "cell_type": "code",
   "execution_count": null,
   "metadata": {},
   "outputs": [],
   "source": [
    "import os\n",
    "import shelve\n",
    "SHELF_FILE = 'ad_persons.shelve'\n",
    "\n",
    "def ensure_shelf_file():\n",
    "    if os.path.exists(SHELF_FILE + '.db'):\n",
    "        print(f\"Cache file {SHELF_FILE} already exists. Reading...\")\n",
    "        return None\n",
    "    server = Server(\n",
    "        fastest_global_catalog[0],\n",
    "        port=fastest_global_catalog[1],\n",
    "        use_ssl=True,\n",
    "        get_info=ALL,\n",
    "        mode=IP_V4_ONLY)\n",
    "    connection = Connection(server, username, password, auto_bind=True)\n",
    "    begin_search = datetime.datetime.now(tz=pytz.utc)\n",
    "    print(\"Downloading entries from Active Directory...\")\n",
    "    entries = connection.extend.standard.paged_search(\n",
    "        'OU=Exchange Users,OU=Main,DC=corpad,DC=adbkng,DC=com',\n",
    "        '(objectClass=person)',\n",
    "        attributes=[\n",
    "            'title',\n",
    "            'department',\n",
    "            'extensionAttribute11', # Join Date\n",
    "            'extensionAttribute6',  # Job Key\n",
    "            'userAccountControl',\n",
    "            'whenChanged',\n",
    "            'lastLogonTimestamp',\n",
    "            'sAMAccountName'])\n",
    "    results = []\n",
    "    for entry in entries:\n",
    "        new_attributes = {}\n",
    "        for attribute, value in entry['attributes'].items():\n",
    "            if isinstance(value, list):\n",
    "                if len(value) == 0:\n",
    "                    new_attributes[attribute] = None\n",
    "                else:\n",
    "                    new_attributes[attribute] = value[0]\n",
    "            else:\n",
    "                new_attributes[attribute] = value\n",
    "        entry['attributes'] = new_attributes\n",
    "        results.append(entry)\n",
    "    end_search = datetime.datetime.now(tz=pytz.utc)\n",
    "    print(f\"Downloaded {len(results)} entries from AD GC in {humanize.naturaldelta(end_search-begin_search)}\")\n",
    "    with shelve.open(SHELF_FILE) as shelf:\n",
    "        shelf['results'] = results\n",
    "\n",
    "def get_dataframe():\n",
    "    ensure_shelf_file()\n",
    "    with shelve.open(SHELF_FILE) as shelf:\n",
    "        results = shelf['results']\n",
    "    df = pd.DataFrame([r['attributes'] for r in results])\n",
    "    df = df[df['userAccountControl'].notnull()]\n",
    "    df = df.astype({'userAccountControl': 'int32'})\n",
    "    df['account_disabled'] = df['userAccountControl'].apply(lambda row: row & 0x02 == 0x02)\n",
    "    df['extensionAttribute11'] = df['extensionAttribute11'].astype('datetime64[ns]')\n",
    "    df = df.rename({\n",
    "        'extensionAttribute6': 'job_key',\n",
    "        'extensionAttribute11': 'join_date'},\n",
    "        axis='columns')\n",
    "    df['today'] = datetime.date.today()\n",
    "    df['today'] = df['today'].astype('datetime64')\n",
    "    return df"
   ]
  },
  {
   "cell_type": "code",
   "execution_count": null,
   "metadata": {
    "scrolled": true
   },
   "outputs": [],
   "source": [
    "import seaborn as sns\n",
    "import pandas as pd\n",
    "import numpy as np\n",
    "import matplotlib.pyplot as plt\n",
    "\n",
    "df = get_dataframe()\n",
    "active_accounts = df.query('account_disabled == False')\n",
    "active_accounts['account_age'] = active_accounts['today'] - active_accounts['join_date']"
   ]
  },
  {
   "cell_type": "code",
   "execution_count": null,
   "metadata": {},
   "outputs": [],
   "source": [
    "# This plots your seniority against a distribution of active account seniorities.\n",
    "# TODO:\n",
    "# - Clutser / filter by job keys or titles\n",
    "\n",
    "seconds_per_year = 86400 * 365\n",
    "(active_accounts['account_age'].astype('timedelta64[s]') / seconds_per_year).plot.kde()\n",
    "my_account_age_years = active_accounts[active_accounts['sAMAccountName'] == login_name]['account_age'].astype('timedelta64[s]').iloc[0] / seconds_per_year\n",
    "#active_accounts.query(f'sAMAccountName == \"{login_name}\"')\n",
    "plt.axvline(my_account_age_years, color='red')\n",
    "plt.text(my_account_age_years + 0.1, 0, login_name)\n",
    "plt.show()"
   ]
  }
 ],
 "metadata": {
  "kernelspec": {
   "display_name": "Python 3",
   "language": "python",
   "name": "python3"
  },
  "language_info": {
   "codemirror_mode": {
    "name": "ipython",
    "version": 3
   },
   "file_extension": ".py",
   "mimetype": "text/x-python",
   "name": "python",
   "nbconvert_exporter": "python",
   "pygments_lexer": "ipython3",
   "version": "3.7.3"
  }
 },
 "nbformat": 4,
 "nbformat_minor": 4
}
